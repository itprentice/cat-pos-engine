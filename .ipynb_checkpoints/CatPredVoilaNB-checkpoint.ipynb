{
 "cells": [
  {
   "cell_type": "code",
   "execution_count": 2,
   "id": "07a7d9c0",
   "metadata": {},
   "outputs": [],
   "source": [
    "from fastbook import *\n",
    "from fastai.vision.widgets import *"
   ]
  },
  {
   "cell_type": "code",
   "execution_count": 4,
   "id": "568c2271",
   "metadata": {},
   "outputs": [],
   "source": [
    "catInf = load_learner('catexport.pkl')"
   ]
  },
  {
   "cell_type": "code",
   "execution_count": 5,
   "id": "f83499e8",
   "metadata": {},
   "outputs": [
    {
     "data": {
      "text/plain": [
       "['belly up', 'contortionist', 'curled up', 'loaf', 'stretching']"
      ]
     },
     "execution_count": 5,
     "metadata": {},
     "output_type": "execute_result"
    }
   ],
   "source": [
    "catInf.dls.vocab"
   ]
  },
  {
   "cell_type": "code",
   "execution_count": 6,
   "id": "e211a745",
   "metadata": {},
   "outputs": [
    {
     "data": {
      "text/html": [],
      "text/plain": [
       "<IPython.core.display.HTML object>"
      ]
     },
     "metadata": {},
     "output_type": "display_data"
    },
    {
     "name": "stderr",
     "output_type": "stream",
     "text": [
      "/home/itprentice/miniconda3/envs/fastbook_learning/lib/python3.8/site-packages/torch/nn/functional.py:718: UserWarning: Named tensors and all their associated APIs are an experimental feature and subject to change. Please do not use them for anything important until they are released as stable. (Triggered internally at  /opt/conda/conda-bld/pytorch_1623448234945/work/c10/core/TensorImpl.h:1156.)\n",
      "  return torch.max_pool2d(input, kernel_size, stride, padding, dilation, ceil_mode)\n"
     ]
    },
    {
     "data": {
      "text/plain": [
       "('loaf', tensor(3), tensor([0.0180, 0.0150, 0.0169, 0.9482, 0.0020]))"
      ]
     },
     "execution_count": 6,
     "metadata": {},
     "output_type": "execute_result"
    }
   ],
   "source": [
    "catInf.predict('bubblesloaf.jpg')"
   ]
  },
  {
   "cell_type": "code",
   "execution_count": 51,
   "id": "8d9d21b6",
   "metadata": {},
   "outputs": [],
   "source": [
    "uploadBtn = widgets.FileUpload()"
   ]
  },
  {
   "cell_type": "code",
   "execution_count": 52,
   "id": "01b4601f",
   "metadata": {},
   "outputs": [],
   "source": [
    "showOut = widgets.Output()"
   ]
  },
  {
   "cell_type": "code",
   "execution_count": 53,
   "id": "74fc93c7",
   "metadata": {},
   "outputs": [],
   "source": [
    "runBtn = widgets.Button(description='Find Cat Position!')"
   ]
  },
  {
   "cell_type": "code",
   "execution_count": 54,
   "id": "39f8098d",
   "metadata": {},
   "outputs": [],
   "source": [
    "predLabel = widgets.Label()\n"
   ]
  },
  {
   "cell_type": "code",
   "execution_count": 57,
   "id": "cf39e289",
   "metadata": {},
   "outputs": [],
   "source": [
    "def onClickRun(change):\n",
    "    img = PILImage.create(uploadBtn.data[-1])\n",
    "    showOut.clear_output()\n",
    "    with showOut: display(img.to_thumb(224, 224))\n",
    "    pred, predIdx, probs = catInf.predict(img)\n",
    "    predLabel.value = f'Prediction: {pred} cat | Probability: {probs[predIdx]*100:.04f}%'\n",
    "runBtn.on_click(onClickRun)"
   ]
  },
  {
   "cell_type": "code",
   "execution_count": 58,
   "id": "69bdc1c3",
   "metadata": {},
   "outputs": [
    {
     "data": {
      "application/vnd.jupyter.widget-view+json": {
       "model_id": "c76554b7bbb7454ca67d2578daae824f",
       "version_major": 2,
       "version_minor": 0
      },
      "text/plain": [
       "VBox(children=(Label(value='Upload your resting cat picture!'), FileUpload(value={'bubblesloaf.jpg': {'metadat…"
      ]
     },
     "metadata": {},
     "output_type": "display_data"
    },
    {
     "data": {
      "text/html": [],
      "text/plain": [
       "<IPython.core.display.HTML object>"
      ]
     },
     "metadata": {},
     "output_type": "display_data"
    },
    {
     "data": {
      "text/html": [],
      "text/plain": [
       "<IPython.core.display.HTML object>"
      ]
     },
     "metadata": {},
     "output_type": "display_data"
    }
   ],
   "source": [
    "VBox([widgets.Label('Upload your resting cat picture!'), uploadBtn, runBtn, showOut, predLabel])"
   ]
  },
  {
   "cell_type": "code",
   "execution_count": null,
   "id": "f968596a",
   "metadata": {},
   "outputs": [],
   "source": []
  }
 ],
 "metadata": {
  "kernelspec": {
   "display_name": "Python 3",
   "language": "python",
   "name": "python3"
  },
  "language_info": {
   "codemirror_mode": {
    "name": "ipython",
    "version": 3
   },
   "file_extension": ".py",
   "mimetype": "text/x-python",
   "name": "python",
   "nbconvert_exporter": "python",
   "pygments_lexer": "ipython3",
   "version": "3.8.2"
  }
 },
 "nbformat": 4,
 "nbformat_minor": 5
}
