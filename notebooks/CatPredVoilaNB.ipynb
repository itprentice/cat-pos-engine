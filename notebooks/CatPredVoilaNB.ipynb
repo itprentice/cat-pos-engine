{
 "cells": [
  {
   "cell_type": "code",
   "execution_count": 1,
   "source": [
    "#from fastbook import *\n",
    "from fastai.vision.all import * #imports all of the vision package stuff, except for widgets \n",
    "from fastai.vision.widgets import *"
   ],
   "outputs": [],
   "metadata": {}
  },
  {
   "cell_type": "code",
   "execution_count": 2,
   "source": [
    "#enabling voila for this notebook (after testing it seems that this isn't needed)\n",
    "# %%capture\n",
    "# !jupyter serverextension enable --sys-prefix voila"
   ],
   "outputs": [],
   "metadata": {}
  },
  {
   "cell_type": "code",
   "execution_count": 3,
   "source": [
    "catInf = load_learner('catexport.pkl')"
   ],
   "outputs": [],
   "metadata": {}
  },
  {
   "cell_type": "code",
   "execution_count": 4,
   "source": [
    "uploadBtn = widgets.FileUpload()"
   ],
   "outputs": [],
   "metadata": {}
  },
  {
   "cell_type": "code",
   "execution_count": 5,
   "source": [
    "showOut = widgets.Output()"
   ],
   "outputs": [],
   "metadata": {}
  },
  {
   "cell_type": "code",
   "execution_count": 6,
   "source": [
    "runBtn = widgets.Button(description='Find Cat Position!')"
   ],
   "outputs": [],
   "metadata": {}
  },
  {
   "cell_type": "code",
   "execution_count": 7,
   "source": [
    "predLabel = widgets.Label()\n"
   ],
   "outputs": [],
   "metadata": {}
  },
  {
   "cell_type": "code",
   "execution_count": 8,
   "source": [
    "def onClickRun(change):\n",
    "    img = PILImage.create(uploadBtn.data[-1])\n",
    "    showOut.clear_output()\n",
    "    with showOut: display(img.to_thumb(224, 224))\n",
    "    pred, predIdx, probs = catInf.predict(img)\n",
    "    predLabel.value = f'Prediction: {pred} cat | Probability: {probs[predIdx]*100:.04f}%'\n",
    "runBtn.on_click(onClickRun)"
   ],
   "outputs": [],
   "metadata": {}
  },
  {
   "cell_type": "code",
   "execution_count": 9,
   "source": [
    "VBox([widgets.Label('Upload your resting cat picture!'), uploadBtn, runBtn, showOut, predLabel])"
   ],
   "outputs": [
    {
     "output_type": "display_data",
     "data": {
      "application/vnd.jupyter.widget-view+json": {
       "model_id": "b0bb847dbfda4f6b97ce1dd1efe85000",
       "version_major": 2,
       "version_minor": 0
      },
      "text/plain": [
       "VBox(children=(Label(value='Upload your resting cat picture!'), FileUpload(value={}, description='Upload'), Bu…"
      ]
     },
     "metadata": {}
    },
    {
     "output_type": "display_data",
     "data": {
      "text/html": [],
      "text/plain": [
       "<IPython.core.display.HTML object>"
      ]
     },
     "metadata": {}
    },
    {
     "output_type": "stream",
     "name": "stderr",
     "text": [
      "/home/itprentice/miniconda3/envs/fastai+book/lib/python3.8/site-packages/torch/nn/functional.py:718: UserWarning: Named tensors and all their associated APIs are an experimental feature and subject to change. Please do not use them for anything important until they are released as stable. (Triggered internally at  /opt/conda/conda-bld/pytorch_1623448234945/work/c10/core/TensorImpl.h:1156.)\n",
      "  return torch.max_pool2d(input, kernel_size, stride, padding, dilation, ceil_mode)\n"
     ]
    },
    {
     "output_type": "display_data",
     "data": {
      "text/html": [],
      "text/plain": [
       "<IPython.core.display.HTML object>"
      ]
     },
     "metadata": {}
    },
    {
     "output_type": "display_data",
     "data": {
      "text/html": [],
      "text/plain": [
       "<IPython.core.display.HTML object>"
      ]
     },
     "metadata": {}
    },
    {
     "output_type": "display_data",
     "data": {
      "text/html": [],
      "text/plain": [
       "<IPython.core.display.HTML object>"
      ]
     },
     "metadata": {}
    }
   ],
   "metadata": {}
  },
  {
   "cell_type": "code",
   "execution_count": null,
   "source": [],
   "outputs": [],
   "metadata": {}
  }
 ],
 "metadata": {
  "kernelspec": {
   "name": "python3",
   "display_name": "Python 3.8.2 64-bit ('fastai+book': conda)"
  },
  "language_info": {
   "codemirror_mode": {
    "name": "ipython",
    "version": 3
   },
   "file_extension": ".py",
   "mimetype": "text/x-python",
   "name": "python",
   "nbconvert_exporter": "python",
   "pygments_lexer": "ipython3",
   "version": "3.8.2"
  },
  "interpreter": {
   "hash": "cbc62007e791cfb9c2c8ecbd32b4e4240681f7c42b080015faf397cda92c5771"
  }
 },
 "nbformat": 4,
 "nbformat_minor": 5
}