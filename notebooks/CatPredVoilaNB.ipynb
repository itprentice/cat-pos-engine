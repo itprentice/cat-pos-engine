{
 "cells": [
  {
   "cell_type": "code",
   "execution_count": 1,
   "id": "07a7d9c0",
   "metadata": {},
   "outputs": [],
   "source": [
    "#from fastbook import *\n",
    "from fastai.vision.all import * #imports all of the vision package stuff, except for widgets \n",
    "from fastai.vision.widgets import *"
   ]
  },
  {
   "cell_type": "code",
   "execution_count": 2,
   "id": "7d384201",
   "metadata": {},
   "outputs": [],
   "source": [
    "#enabling voila for this notebook (after testing it seems that this isn't needed)\n",
    "# %%capture\n",
    "# !jupyter serverextension enable --sys-prefix voila"
   ]
  },
  {
   "cell_type": "code",
   "execution_count": 3,
   "id": "568c2271",
   "metadata": {},
   "outputs": [],
   "source": [
    "catInf = load_learner('catexport.pkl')"
   ]
  },
  {
   "cell_type": "code",
   "execution_count": 4,
   "id": "8d9d21b6",
   "metadata": {},
   "outputs": [],
   "source": [
    "uploadBtn = widgets.FileUpload()"
   ]
  },
  {
   "cell_type": "code",
   "execution_count": 5,
   "id": "01b4601f",
   "metadata": {},
   "outputs": [],
   "source": [
    "showOut = widgets.Output()"
   ]
  },
  {
   "cell_type": "code",
   "execution_count": 6,
   "id": "74fc93c7",
   "metadata": {},
   "outputs": [],
   "source": [
    "runBtn = widgets.Button(description='Find Cat Position!')"
   ]
  },
  {
   "cell_type": "code",
   "execution_count": 7,
   "id": "39f8098d",
   "metadata": {},
   "outputs": [],
   "source": [
    "predLabel = widgets.Label()\n"
   ]
  },
  {
   "cell_type": "code",
   "execution_count": 8,
   "id": "cf39e289",
   "metadata": {},
   "outputs": [],
   "source": [
    "def onClickRun(change):\n",
    "    img = PILImage.create(uploadBtn.data[-1])\n",
    "    showOut.clear_output()\n",
    "    with showOut: display(img.to_thumb(224, 224))\n",
    "    pred, predIdx, probs = catInf.predict(img)\n",
    "    predLabel.value = f'Prediction: {pred} cat | Probability: {probs[predIdx]*100:.04f}%'\n",
    "runBtn.on_click(onClickRun)"
   ]
  },
  {
   "cell_type": "code",
   "execution_count": 9,
   "id": "69bdc1c3",
   "metadata": {},
   "outputs": [
    {
     "data": {
      "application/vnd.jupyter.widget-view+json": {
       "model_id": "1caebb3e95544a9f993e9f42c950778e",
       "version_major": 2,
       "version_minor": 0
      },
      "text/plain": [
       "VBox(children=(Label(value='Upload your resting cat picture!'), FileUpload(value={}, description='Upload'), Bu…"
      ]
     },
     "metadata": {},
     "output_type": "display_data"
    }
   ],
   "source": [
    "VBox([widgets.Label('Upload your resting cat picture!'), uploadBtn, runBtn, showOut, predLabel])"
   ]
  },
  {
   "cell_type": "code",
   "execution_count": null,
   "id": "d57b08c4",
   "metadata": {},
   "outputs": [],
   "source": []
  }
 ],
 "metadata": {
  "kernelspec": {
   "display_name": "Python 3",
   "language": "python",
   "name": "python3"
  },
  "language_info": {
   "codemirror_mode": {
    "name": "ipython",
    "version": 3
   },
   "file_extension": ".py",
   "mimetype": "text/x-python",
   "name": "python",
   "nbconvert_exporter": "python",
   "pygments_lexer": "ipython3",
   "version": "3.8.2"
  }
 },
 "nbformat": 4,
 "nbformat_minor": 5
}
